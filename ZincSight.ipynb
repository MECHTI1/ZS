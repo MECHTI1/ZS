{
 "cells": [
  {
   "cell_type": "code",
   "id": "initial_id",
   "metadata": {
    "collapsed": true,
    "jupyter": {
     "is_executing": true
    }
   },
   "source": [
    "#PostgreSQL software installation\n",
    "!sudo apt install dirmngr ca-certificates software-properties-common gnupg gnupg2 apt-transport-https curl -y\n",
    "!curl -fSsL https://www.postgresql.org/media/keys/ACCC4CF8.asc | gpg --dearmor | sudo tee /usr/share/keyrings/postgresql.gpg > /dev/null\n",
    "!echo 'deb [arch=amd64,arm64,ppc64el signed-by=/usr/share/keyrings/postgresql.gpg] http://apt.postgresql.org/pub/repos/apt/ jammy-pgdg main' | sudo tee /etc/apt/sources.list.d/pgdg.list\n",
    "!sudo apt update\n",
    "!sudo apt install postgresql-client-15 postgresql-15 -y\n",
    "!sudo service postgresql start\n",
    "!apt install aria2 -y\n",
    "!sudo apt-get install pigz\n",
    "\n",
    "# Create a new PostgreSQL database if the database does not exist\n",
    "!sudo -u postgres psql -tc \"SELECT 1 FROM pg_database WHERE datname = 'zincsight_pipeline_db';\" | grep -q 1 || sudo -u postgres psql -c \"CREATE DATABASE zincsight_pipeline_db;\"\n",
    "!sudo -u postgres psql -c \"GRANT ALL PRIVILEGES ON DATABASE zincsight_pipeline_db TO postgres;\"\n",
    "!sudo -u postgres psql -d zincsight_pipeline_db -f  src/setup_pg_db_with_tables/PostgreSQL_4_necessary_tables.sql\n",
    "# Step 1: Clone the GitHub repository\n",
    "!git clone https://github.com/MECHTI1/ZS.git\n",
    "# Step 2: Restore the SQL file from the cloned repository\n",
    "!sudo -u postgres psql -d zincsight_pipeline_db -f \"src/setup_pg_db_with_tables/PostgreSQL_4_necessary_tables.sql\" # The clone of the GitHub repository should be before this line of Restore the SQL file from the cloned repository\n",
    "!pip install -r src\\requirements.txt #  The clone of the GitHub repository should be before installation of the dependencies listed in requirements.txt"
   ],
   "outputs": [],
   "execution_count": null
  }
 ],
 "metadata": {
  "kernelspec": {
   "display_name": "Python 3",
   "language": "python",
   "name": "python3"
  },
  "language_info": {
   "codemirror_mode": {
    "name": "ipython",
    "version": 2
   },
   "file_extension": ".py",
   "mimetype": "text/x-python",
   "name": "python",
   "nbconvert_exporter": "python",
   "pygments_lexer": "ipython2",
   "version": "2.7.6"
  }
 },
 "nbformat": 4,
 "nbformat_minor": 5
}
