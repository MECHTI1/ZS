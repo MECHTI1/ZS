{
  "cells": [
    {
      "cell_type": "markdown",
      "metadata": {
        "id": "view-in-github",
        "colab_type": "text"
      },
      "source": [
        "<a href=\"https://colab.research.google.com/github/MECHTI1/ZS/blob/master/ZinxSightv2.ipynb\" target=\"_parent\"><img src=\"https://colab.research.google.com/assets/colab-badge.svg\" alt=\"Open In Colab\"/></a>"
      ]
    },
    {
      "cell_type": "code",
      "source": [
        "#@title Environment Setup and Imports\n",
        "\n",
        "# Install Essential System Packages and GPG Tools\n",
        "!sudo apt install dirmngr ca-certificates software-properties-common gnupg gnupg2 apt-transport-https curl -y\n",
        "\n",
        "# Install PostgresSQL\n",
        "!curl -fSsL https://www.postgresql.org/media/keys/ACCC4CF8.asc | gpg --dearmor | sudo tee /usr/share/keyrings/postgresql.gpg > /dev/null\n",
        "!echo 'deb [arch=amd64,arm64,ppc64el signed-by=/usr/share/keyrings/postgresql.gpg] http://apt.postgresql.org/pub/repos/apt/ jammy-pgdg main' | sudo tee /etc/apt/sources.list.d/pgdg.list\n",
        "!sudo apt update\n",
        "!sudo apt install postgresql-client-16 postgresql-16 -y\n",
        "!sudo service postgresql start\n",
        "\n",
        "# Create a new PostgreSQL database if it does not already exist\n",
        "!sudo -u postgres psql -tc \"SELECT 1 FROM pg_database WHERE datname = 'zincsight_pipeline_db';\" | grep -q 1 || sudo -u postgres psql -c \"CREATE DATABASE zincsight_pipeline_db;\"\n",
        "!sudo -u postgres psql -c \"GRANT ALL PRIVILEGES ON DATABASE zincsight_pipeline_db TO postgres;\"\n",
        "\n",
        "# Install aria2 for optional batch downloads\n",
        "!apt install aria2 -y\n",
        "\n",
        "# Clone the GitHub repository and change into the repo directory\n",
        "!git clone git@github.com:MECHTI1/ZS.git\n",
        "%cd /content/ZS/\n",
        "\n",
        "# Add essential SQL tables to the established database\n",
        "!sudo -u postgres psql -d zincsight_pipeline_db -f \"src/setup_pg_db_with_tables/PostgreSQL_4_necessary_tables.sql\"\n",
        "\n",
        "# Install libraries or dependencies\n",
        "!pip install -r requirements.txt\n"
      ],
      "metadata": {
        "id": "9pSOgPHBLRvd"
      },
      "execution_count": null,
      "outputs": []
    },
    {
      "cell_type": "code",
      "execution_count": null,
      "metadata": {
        "id": "rx7OEBs9fOOv"
      },
      "outputs": [],
      "source": [
        "%pip install -q ipywidgets\n",
        "import ipywidgets as widgets\n",
        "from IPython.display import display\n",
        "import os"
      ]
    },
    {
      "cell_type": "code",
      "source": [
        "mounted_to_drive=True\n",
        "\n",
        "if mounted_to_drive:\n",
        "  # Mount Google Drive\n",
        "  from google.colab import drive\n",
        "  drive.mount('/content/drive/')"
      ],
      "metadata": {
        "id": "gRK3CB9wLXMV"
      },
      "execution_count": null,
      "outputs": []
    },
    {
      "cell_type": "code",
      "source": [
        "\n",
        "# Define the input structure IDs for the textarea\n",
        "input_test_31_af_ids = 'A0A068N621, A0A0F6AZI6, A0A292DHH8, A0A2U3D0N8, A0A3F2YM30, A0A5H1ZR49, G8ZFK7, O60232, P0A6G5, P0DUH5, P37659, P38164, Q03760, Q08281, Q2K0Z2, Q2UFA9, Q5W0Q7, Q66K64, Q68EN5,Q6CXX6, Q7MVV4, Q86T03, Q8N8R7, Q8NBJ9, Q96JC1, Q9BWG6,Q9D1N4, Q9KP27, Q9M1V3, Q9NUN7, Q9NXF7'\n",
        "\n",
        "# Textarea for inputting structure IDs\n",
        "structure_ids_input = widgets.Textarea(\n",
        "    value=f\"{input_test_31_af_ids}\",\n",
        "    description='',\n",
        "    layout=widgets.Layout(width='100%', height='100px')\n",
        ")\n",
        "\n",
        "# Function to save uploaded files to Google Drive\n",
        "def save_uploaded_files_to_drive(change):\n",
        "    target_dir = '/content/drive/MyDrive/loaded_strucs'\n",
        "    os.makedirs(target_dir, exist_ok=True)\n",
        "\n",
        "    # Save each uploaded file to the target directory\n",
        "    for file_name, file_info in change['new'].items():\n",
        "        file_path = os.path.join(target_dir, file_name)\n",
        "        with open(file_path, 'wb') as f:\n",
        "            f.write(file_info['content'])\n",
        "    print(f\"Files successfully uploaded to {target_dir}\")\n",
        "\n",
        "# Create a FileUpload widget for file uploads\n",
        "file_upload = widgets.FileUpload(\n",
        "    accept='.mmcif,.pdb,.tar,.tar.gz,.txt',  # Restrict accepted file types\n",
        "    multiple=True,  # Allow multiple file uploads\n",
        "    description='Upload files'\n",
        ")\n",
        "\n",
        "# Automatically save files to Google Drive when uploaded\n",
        "file_upload.observe(save_uploaded_files_to_drive, names='value')\n",
        "\n",
        "# Create an Accordion to organize the widgets\n",
        "accordion = widgets.Accordion(\n",
        "    children=[structure_ids_input, file_upload],\n",
        "    selected_index=None  # Keep all sections collapsed by default\n",
        ")\n",
        "\n",
        "# Set titles for the accordion sections\n",
        "accordion.set_title(0, 'Write structure IDs (separated by commas)')\n",
        "accordion.set_title(1, 'Upload structure files (.mmcif, .pdb, .tar, .tar.gz, .txt)')\n",
        "\n",
        "# Display the accordion\n",
        "display(accordion)\n"
      ],
      "metadata": {
        "id": "b3bsTuxuWc7p",
        "colab": {
          "base_uri": "https://localhost:8080/",
          "height": 251,
          "referenced_widgets": [
            "d205c7ace4cd4fbdb304109a28a0ef38",
            "1061172494324b4e97951720eff393c2",
            "80bdd27390d54ab2857853ee2b166e00",
            "6e85c80dbba9423289a804be61201b74",
            "d6729875b527468f8efbf403045dea70",
            "09b8cd4e407545d4afb3cb1ba09d5d94",
            "6f5b5adf2d134e89b30c4d32b258f0ee",
            "53873b1d73bd4cad94edbef8268ec830"
          ]
        },
        "outputId": "9b5452f3-a6f4-4d00-f0cc-423812cff175"
      },
      "execution_count": null,
      "outputs": [
        {
          "output_type": "display_data",
          "data": {
            "text/plain": [
              "Accordion(children=(Textarea(value='A0A068N621, A0A0F6AZI6, A0A292DHH8, A0A2U3D0N8, A0A3F2YM30, A0A5H1ZR49, G8…"
            ],
            "application/vnd.jupyter.widget-view+json": {
              "version_major": 2,
              "version_minor": 0,
              "model_id": "d205c7ace4cd4fbdb304109a28a0ef38"
            }
          },
          "metadata": {}
        }
      ]
    }
  ],
  "metadata": {
    "colab": {
      "provenance": [],
      "mount_file_id": "1l2fdLC2Su6VPLX4-UzXDRO8j1_ffzfMe",
      "authorship_tag": "ABX9TyNLcsAlLsJOLj9CFlX1a8H9",
      "include_colab_link": true
    },
    "kernelspec": {
      "display_name": "Python 3",
      "name": "python3"
    },
    "language_info": {
      "name": "python"
    },
    "widgets": {
      "application/vnd.jupyter.widget-state+json": {
        "d205c7ace4cd4fbdb304109a28a0ef38": {
          "model_module": "@jupyter-widgets/controls",
          "model_name": "AccordionModel",
          "model_module_version": "1.5.0",
          "state": {
            "_dom_classes": [],
            "_model_module": "@jupyter-widgets/controls",
            "_model_module_version": "1.5.0",
            "_model_name": "AccordionModel",
            "_titles": {
              "0": "Write structure IDs (separated by commas)",
              "1": "Upload structure files (.mmcif, .pdb, .tar, .tar.gz, .txt)"
            },
            "_view_count": null,
            "_view_module": "@jupyter-widgets/controls",
            "_view_module_version": "1.5.0",
            "_view_name": "AccordionView",
            "box_style": "",
            "children": [
              "IPY_MODEL_1061172494324b4e97951720eff393c2",
              "IPY_MODEL_80bdd27390d54ab2857853ee2b166e00"
            ],
            "layout": "IPY_MODEL_6e85c80dbba9423289a804be61201b74",
            "selected_index": 0
          }
        },
        "1061172494324b4e97951720eff393c2": {
          "model_module": "@jupyter-widgets/controls",
          "model_name": "TextareaModel",
          "model_module_version": "1.5.0",
          "state": {
            "_dom_classes": [],
            "_model_module": "@jupyter-widgets/controls",
            "_model_module_version": "1.5.0",
            "_model_name": "TextareaModel",
            "_view_count": null,
            "_view_module": "@jupyter-widgets/controls",
            "_view_module_version": "1.5.0",
            "_view_name": "TextareaView",
            "continuous_update": true,
            "description": "",
            "description_tooltip": null,
            "disabled": false,
            "layout": "IPY_MODEL_d6729875b527468f8efbf403045dea70",
            "placeholder": "​",
            "rows": null,
            "style": "IPY_MODEL_09b8cd4e407545d4afb3cb1ba09d5d94",
            "value": "A0A068N621, A0A0F6AZI6, A0A292DHH8, A0A2U3D0N8, A0A3F2YM30, A0A5H1ZR49, G8ZFK7, O60232, P0A6G5, P0DUH5, P37659, P38164, Q03760, Q08281, Q2K0Z2, Q2UFA9, Q5W0Q7, Q66K64, Q68EN5,Q6CXX6, Q7MVV4, Q86T03, Q8N8R7, Q8NBJ9, Q96JC1, Q9BWG6,Q9D1N4, Q9KP27, Q9M1V3, Q9NUN7, Q9NXF7"
          }
        },
        "80bdd27390d54ab2857853ee2b166e00": {
          "model_module": "@jupyter-widgets/controls",
          "model_name": "FileUploadModel",
          "model_module_version": "1.5.0",
          "state": {
            "_counter": 0,
            "_dom_classes": [],
            "_model_module": "@jupyter-widgets/controls",
            "_model_module_version": "1.5.0",
            "_model_name": "FileUploadModel",
            "_view_count": null,
            "_view_module": "@jupyter-widgets/controls",
            "_view_module_version": "1.5.0",
            "_view_name": "FileUploadView",
            "accept": ".mmcif,.pdb,.tar,.tar.gz,.txt",
            "button_style": "",
            "data": [],
            "description": "Upload files",
            "description_tooltip": null,
            "disabled": false,
            "error": "",
            "icon": "upload",
            "layout": "IPY_MODEL_6f5b5adf2d134e89b30c4d32b258f0ee",
            "metadata": [],
            "multiple": true,
            "style": "IPY_MODEL_53873b1d73bd4cad94edbef8268ec830"
          }
        },
        "6e85c80dbba9423289a804be61201b74": {
          "model_module": "@jupyter-widgets/base",
          "model_name": "LayoutModel",
          "model_module_version": "1.2.0",
          "state": {
            "_model_module": "@jupyter-widgets/base",
            "_model_module_version": "1.2.0",
            "_model_name": "LayoutModel",
            "_view_count": null,
            "_view_module": "@jupyter-widgets/base",
            "_view_module_version": "1.2.0",
            "_view_name": "LayoutView",
            "align_content": null,
            "align_items": null,
            "align_self": null,
            "border": null,
            "bottom": null,
            "display": null,
            "flex": null,
            "flex_flow": null,
            "grid_area": null,
            "grid_auto_columns": null,
            "grid_auto_flow": null,
            "grid_auto_rows": null,
            "grid_column": null,
            "grid_gap": null,
            "grid_row": null,
            "grid_template_areas": null,
            "grid_template_columns": null,
            "grid_template_rows": null,
            "height": null,
            "justify_content": null,
            "justify_items": null,
            "left": null,
            "margin": null,
            "max_height": null,
            "max_width": null,
            "min_height": null,
            "min_width": null,
            "object_fit": null,
            "object_position": null,
            "order": null,
            "overflow": null,
            "overflow_x": null,
            "overflow_y": null,
            "padding": null,
            "right": null,
            "top": null,
            "visibility": null,
            "width": null
          }
        },
        "d6729875b527468f8efbf403045dea70": {
          "model_module": "@jupyter-widgets/base",
          "model_name": "LayoutModel",
          "model_module_version": "1.2.0",
          "state": {
            "_model_module": "@jupyter-widgets/base",
            "_model_module_version": "1.2.0",
            "_model_name": "LayoutModel",
            "_view_count": null,
            "_view_module": "@jupyter-widgets/base",
            "_view_module_version": "1.2.0",
            "_view_name": "LayoutView",
            "align_content": null,
            "align_items": null,
            "align_self": null,
            "border": null,
            "bottom": null,
            "display": null,
            "flex": null,
            "flex_flow": null,
            "grid_area": null,
            "grid_auto_columns": null,
            "grid_auto_flow": null,
            "grid_auto_rows": null,
            "grid_column": null,
            "grid_gap": null,
            "grid_row": null,
            "grid_template_areas": null,
            "grid_template_columns": null,
            "grid_template_rows": null,
            "height": "100px",
            "justify_content": null,
            "justify_items": null,
            "left": null,
            "margin": null,
            "max_height": null,
            "max_width": null,
            "min_height": null,
            "min_width": null,
            "object_fit": null,
            "object_position": null,
            "order": null,
            "overflow": null,
            "overflow_x": null,
            "overflow_y": null,
            "padding": null,
            "right": null,
            "top": null,
            "visibility": null,
            "width": "100%"
          }
        },
        "09b8cd4e407545d4afb3cb1ba09d5d94": {
          "model_module": "@jupyter-widgets/controls",
          "model_name": "DescriptionStyleModel",
          "model_module_version": "1.5.0",
          "state": {
            "_model_module": "@jupyter-widgets/controls",
            "_model_module_version": "1.5.0",
            "_model_name": "DescriptionStyleModel",
            "_view_count": null,
            "_view_module": "@jupyter-widgets/base",
            "_view_module_version": "1.2.0",
            "_view_name": "StyleView",
            "description_width": ""
          }
        },
        "6f5b5adf2d134e89b30c4d32b258f0ee": {
          "model_module": "@jupyter-widgets/base",
          "model_name": "LayoutModel",
          "model_module_version": "1.2.0",
          "state": {
            "_model_module": "@jupyter-widgets/base",
            "_model_module_version": "1.2.0",
            "_model_name": "LayoutModel",
            "_view_count": null,
            "_view_module": "@jupyter-widgets/base",
            "_view_module_version": "1.2.0",
            "_view_name": "LayoutView",
            "align_content": null,
            "align_items": null,
            "align_self": null,
            "border": null,
            "bottom": null,
            "display": null,
            "flex": null,
            "flex_flow": null,
            "grid_area": null,
            "grid_auto_columns": null,
            "grid_auto_flow": null,
            "grid_auto_rows": null,
            "grid_column": null,
            "grid_gap": null,
            "grid_row": null,
            "grid_template_areas": null,
            "grid_template_columns": null,
            "grid_template_rows": null,
            "height": null,
            "justify_content": null,
            "justify_items": null,
            "left": null,
            "margin": null,
            "max_height": null,
            "max_width": null,
            "min_height": null,
            "min_width": null,
            "object_fit": null,
            "object_position": null,
            "order": null,
            "overflow": null,
            "overflow_x": null,
            "overflow_y": null,
            "padding": null,
            "right": null,
            "top": null,
            "visibility": null,
            "width": null
          }
        },
        "53873b1d73bd4cad94edbef8268ec830": {
          "model_module": "@jupyter-widgets/controls",
          "model_name": "ButtonStyleModel",
          "model_module_version": "1.5.0",
          "state": {
            "_model_module": "@jupyter-widgets/controls",
            "_model_module_version": "1.5.0",
            "_model_name": "ButtonStyleModel",
            "_view_count": null,
            "_view_module": "@jupyter-widgets/base",
            "_view_module_version": "1.2.0",
            "_view_name": "StyleView",
            "button_color": null,
            "font_weight": ""
          }
        }
      }
    }
  },
  "nbformat": 4,
  "nbformat_minor": 0
}